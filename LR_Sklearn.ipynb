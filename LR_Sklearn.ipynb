{
 "cells": [
  {
   "cell_type": "code",
   "execution_count": 1,
   "metadata": {},
   "outputs": [],
   "source": [
    "import pandas as pd\n",
    "import numpy as np\n",
    "\n",
    "from sklearn.model_selection import train_test_split\n",
    "from sklearn.preprocessing import LabelEncoder\n",
    "from sklearn.linear_model import LogisticRegression"
   ]
  },
  {
   "cell_type": "code",
   "execution_count": 2,
   "metadata": {},
   "outputs": [],
   "source": [
    "dt = pd.read_csv('final_data.csv')"
   ]
  },
  {
   "cell_type": "code",
   "execution_count": 3,
   "metadata": {},
   "outputs": [],
   "source": [
    "dt['city'] = LabelEncoder().fit_transform(dt.city_name)\n",
    "dt['labels'] = LabelEncoder().fit_transform(dt.label)"
   ]
  },
  {
   "cell_type": "code",
   "execution_count": 4,
   "metadata": {},
   "outputs": [],
   "source": [
    "dt = dt.drop(columns=['city_name','Unnamed: 0','Unnamed: 0.1'])"
   ]
  },
  {
   "cell_type": "code",
   "execution_count": 5,
   "metadata": {},
   "outputs": [],
   "source": [
    "X = np.array(dt.drop(columns=['label','labels']))\n",
    "y = np.array(dt.labels)"
   ]
  },
  {
   "cell_type": "code",
   "execution_count": 6,
   "metadata": {},
   "outputs": [],
   "source": [
    "trainx, testx, trainy, testy = train_test_split(X, y, test_size=0.3)"
   ]
  },
  {
   "cell_type": "code",
   "execution_count": 8,
   "metadata": {},
   "outputs": [
    {
     "name": "stderr",
     "output_type": "stream",
     "text": [
      "/Users/zhili/miniconda3/envs/ml/lib/python3.6/site-packages/sklearn/linear_model/logistic.py:757: ConvergenceWarning: lbfgs failed to converge. Increase the number of iterations.\n",
      "  \"of iterations.\", ConvergenceWarning)\n"
     ]
    },
    {
     "name": "stdout",
     "output_type": "stream",
     "text": [
      "[[     0      0      0      0      0     20      0]\n",
      " [     0      0      0      0      0   1641     13]\n",
      " [     0      0      0      0      0   8110     86]\n",
      " [     0      0      0      0      0     83      0]\n",
      " [     0      0      0      0      0     41      0]\n",
      " [     0      0      0      0      0 139488    272]\n",
      " [     0      0      1      0      0  45176    388]]\n",
      "              precision    recall  f1-score   support\n",
      "\n",
      "           0       0.00      0.00      0.00        20\n",
      "           1       0.00      0.00      0.00      1654\n",
      "           2       0.00      0.00      0.00      8196\n",
      "           3       0.00      0.00      0.00        83\n",
      "           4       0.00      0.00      0.00        41\n",
      "           5       0.72      1.00      0.83    139760\n",
      "           6       0.51      0.01      0.02     45565\n",
      "\n",
      "   micro avg       0.72      0.72      0.72    195319\n",
      "   macro avg       0.18      0.14      0.12    195319\n",
      "weighted avg       0.63      0.72      0.60    195319\n",
      "\n",
      "0.7161412868179747\n",
      "CPU times: user 9.35 s, sys: 1.99 s, total: 11.3 s\n",
      "Wall time: 7.42 s\n"
     ]
    },
    {
     "name": "stderr",
     "output_type": "stream",
     "text": [
      "/Users/zhili/miniconda3/envs/ml/lib/python3.6/site-packages/sklearn/metrics/classification.py:1143: UndefinedMetricWarning: Precision and F-score are ill-defined and being set to 0.0 in labels with no predicted samples.\n",
      "  'precision', 'predicted', average, warn_for)\n"
     ]
    }
   ],
   "source": [
    "%%time\n",
    "from sklearn.metrics import classification_report, confusion_matrix, accuracy_score\n",
    "clf = LogisticRegression(random_state=0, solver='lbfgs',max_iter =10,\n",
    "                          multi_class='multinomial').fit(trainx,trainy)\n",
    "                          \n",
    "y_pred = clf.predict(testx)\n",
    "print(confusion_matrix(testy,y_pred))  \n",
    "print(classification_report(testy,y_pred))  \n",
    "print(accuracy_score(testy, y_pred))  "
   ]
  },
  {
   "cell_type": "code",
   "execution_count": 13,
   "metadata": {},
   "outputs": [
    {
     "name": "stdout",
     "output_type": "stream",
     "text": [
      "[[    1     0     1     0    18     0     0]\n",
      " [  381    19   367   160   639    25    63]\n",
      " [ 2356    42   684   179  4066   403   466]\n",
      " [    7     0    25    23    24     1     3]\n",
      " [    0     0     0     0    40     1     0]\n",
      " [21443    31   277    40 94032 23028   909]\n",
      " [10867    79   806   177 23479  8258  1899]]\n",
      "              precision    recall  f1-score   support\n",
      "\n",
      "           0       0.00      0.05      0.00        20\n",
      "           1       0.11      0.01      0.02      1654\n",
      "           2       0.32      0.08      0.13      8196\n",
      "           3       0.04      0.28      0.07        83\n",
      "           4       0.00      0.98      0.00        41\n",
      "           5       0.73      0.16      0.27    139760\n",
      "           6       0.57      0.04      0.08     45565\n",
      "\n",
      "   micro avg       0.13      0.13      0.13    195319\n",
      "   macro avg       0.25      0.23      0.08    195319\n",
      "weighted avg       0.67      0.13      0.22    195319\n",
      "\n",
      "0.1315489020525397\n",
      "CPU times: user 1.34 s, sys: 746 ms, total: 2.09 s\n",
      "Wall time: 2.16 s\n"
     ]
    }
   ],
   "source": [
    "%%time\n",
    "from sklearn.naive_bayes import GaussianNB\n",
    "clf = GaussianNB().fit(trainx,trainy)\n",
    "y_pred = clf.predict(testx)\n",
    "print(confusion_matrix(testy,y_pred))  \n",
    "print(classification_report(testy,y_pred))  \n",
    "print(accuracy_score(testy, y_pred))  "
   ]
  },
  {
   "cell_type": "code",
   "execution_count": null,
   "metadata": {},
   "outputs": [],
   "source": []
  }
 ],
 "metadata": {
  "kernelspec": {
   "display_name": "Python 3",
   "language": "python",
   "name": "python3"
  }
 },
 "nbformat": 4,
 "nbformat_minor": 2
}
