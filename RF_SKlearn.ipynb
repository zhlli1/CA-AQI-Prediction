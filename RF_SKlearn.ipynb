{
 "cells": [
  {
   "cell_type": "code",
   "execution_count": 3,
   "metadata": {
    "ExecuteTime": {
     "end_time": "2019-02-02T02:14:24.463543Z",
     "start_time": "2019-02-02T02:14:24.459970Z"
    }
   },
   "outputs": [],
   "source": [
    "import pandas as pd\n",
    "import numpy as np\n",
    "\n",
    "from sklearn.model_selection import train_test_split\n",
    "from sklearn.preprocessing import LabelEncoder\n",
    "from sklearn.linear_model import LogisticRegression\n",
    "from sklearn.ensemble import GradientBoostingClassifier, RandomForestClassifier"
   ]
  },
  {
   "cell_type": "code",
   "execution_count": 4,
   "metadata": {
    "ExecuteTime": {
     "end_time": "2019-02-02T02:21:08.744778Z",
     "start_time": "2019-02-02T02:21:03.206107Z"
    }
   },
   "outputs": [],
   "source": [
    "dt = pd.read_csv('final_data.csv')"
   ]
  },
  {
   "cell_type": "code",
   "execution_count": 5,
   "metadata": {
    "ExecuteTime": {
     "end_time": "2019-02-02T02:21:08.909447Z",
     "start_time": "2019-02-02T02:21:08.746902Z"
    }
   },
   "outputs": [],
   "source": [
    "dt['city'] = LabelEncoder().fit_transform(dt.city_name)\n",
    "dt['labels'] = LabelEncoder().fit_transform(dt.label)"
   ]
  },
  {
   "cell_type": "code",
   "execution_count": 6,
   "metadata": {
    "ExecuteTime": {
     "end_time": "2019-02-02T02:21:09.210224Z",
     "start_time": "2019-02-02T02:21:08.911201Z"
    }
   },
   "outputs": [],
   "source": [
    "dt = dt.drop(columns=['city_name','Unnamed: 0','Unnamed: 0.1'])"
   ]
  },
  {
   "cell_type": "code",
   "execution_count": 7,
   "metadata": {
    "ExecuteTime": {
     "end_time": "2019-02-02T02:21:17.866166Z",
     "start_time": "2019-02-02T02:21:17.216949Z"
    }
   },
   "outputs": [],
   "source": [
    "X = np.array(dt.drop(columns=['label','labels']))\n",
    "y = np.array(dt.labels)"
   ]
  },
  {
   "cell_type": "code",
   "execution_count": 8,
   "metadata": {
    "ExecuteTime": {
     "end_time": "2019-02-02T02:21:30.461087Z",
     "start_time": "2019-02-02T02:21:29.640490Z"
    }
   },
   "outputs": [],
   "source": [
    "trainx, testx, trainy, testy = train_test_split(X, y, test_size=0.3)"
   ]
  },
  {
   "cell_type": "markdown",
   "metadata": {},
   "source": [
    "### Random Forest with 10 trees"
   ]
  },
  {
   "cell_type": "code",
   "execution_count": 12,
   "metadata": {
    "ExecuteTime": {
     "end_time": "2019-02-02T02:58:33.252460Z",
     "start_time": "2019-02-02T02:24:08.422119Z"
    }
   },
   "outputs": [
    {
     "name": "stdout",
     "output_type": "stream",
     "text": [
      "[[     0      0      0      0      0     12      8]\n",
      " [     0    385    754      2      0     91    411]\n",
      " [     0    249   2619      5      1    563   4735]\n",
      " [     0     39     29      2      0     13     17]\n",
      " [     0      0      1      0      2     38      4]\n",
      " [     0     17    319      0      1 128400  10867]\n",
      " [     1     98   1947      1      0  15884  27804]]\n",
      "              precision    recall  f1-score   support\n",
      "\n",
      "           0       0.00      0.00      0.00        20\n",
      "           1       0.49      0.23      0.32      1643\n",
      "           2       0.46      0.32      0.38      8172\n",
      "           3       0.20      0.02      0.04       100\n",
      "           4       0.50      0.04      0.08        45\n",
      "           5       0.89      0.92      0.90    139604\n",
      "           6       0.63      0.61      0.62     45735\n",
      "\n",
      "   micro avg       0.82      0.82      0.82    195319\n",
      "   macro avg       0.45      0.31      0.33    195319\n",
      "weighted avg       0.81      0.82      0.81    195319\n",
      "\n",
      "0.8151383121969701\n",
      "CPU times: user 23.1 s, sys: 566 ms, total: 23.7 s\n",
      "Wall time: 24.2 s\n"
     ]
    }
   ],
   "source": [
    "%%time\n",
    "from sklearn.metrics import classification_report, confusion_matrix, accuracy_score\n",
    "rf_10 = RandomForestClassifier(n_estimators=10, max_depth=20).fit(trainx, trainy)\n",
    "y_pred = rf_10.predict(testx)\n",
    "print(confusion_matrix(testy,y_pred))  \n",
    "print(classification_report(testy,y_pred))  \n",
    "print(accuracy_score(testy, y_pred))  "
   ]
  },
  {
   "cell_type": "markdown",
   "metadata": {},
   "source": [
    "### Random Forest with 100 trees"
   ]
  },
  {
   "cell_type": "code",
   "execution_count": 13,
   "metadata": {
    "ExecuteTime": {
     "end_time": "2019-02-02T03:40:35.811832Z",
     "start_time": "2019-02-02T03:23:19.835956Z"
    }
   },
   "outputs": [
    {
     "name": "stdout",
     "output_type": "stream",
     "text": [
      "[[     0      0      0      0      0     14      6]\n",
      " [     0    353    821      2      0     68    399]\n",
      " [     0    201   2628      3      0    486   4854]\n",
      " [     0     41     30      1      0     10     18]\n",
      " [     0      0      0      0      1     38      6]\n",
      " [     0     11    238      0      3 128860  10492]\n",
      " [     0     74   1582      0      0  15209  28870]]\n",
      "              precision    recall  f1-score   support\n",
      "\n",
      "           0       0.00      0.00      0.00        20\n",
      "           1       0.52      0.21      0.30      1643\n",
      "           2       0.50      0.32      0.39      8172\n",
      "           3       0.17      0.01      0.02       100\n",
      "           4       0.25      0.02      0.04        45\n",
      "           5       0.89      0.92      0.91    139604\n",
      "           6       0.65      0.63      0.64     45735\n",
      "\n",
      "   micro avg       0.82      0.82      0.82    195319\n",
      "   macro avg       0.42      0.30      0.33    195319\n",
      "weighted avg       0.81      0.82      0.82    195319\n",
      "\n",
      "0.8228231764446879\n",
      "CPU times: user 3min 47s, sys: 3.53 s, total: 3min 51s\n",
      "Wall time: 3min 54s\n"
     ]
    },
    {
     "name": "stderr",
     "output_type": "stream",
     "text": [
      "/Users/zhili/miniconda3/envs/ml/lib/python3.6/site-packages/sklearn/metrics/classification.py:1143: UndefinedMetricWarning: Precision and F-score are ill-defined and being set to 0.0 in labels with no predicted samples.\n",
      "  'precision', 'predicted', average, warn_for)\n"
     ]
    }
   ],
   "source": [
    "%%time\n",
    "from sklearn.metrics import classification_report, confusion_matrix, accuracy_score\n",
    "rf_100 = RandomForestClassifier(n_estimators=100, max_depth=20).fit(trainx, trainy)\n",
    "y_pred = rf_100.predict(testx)\n",
    "print(confusion_matrix(testy,y_pred))  \n",
    "print(classification_report(testy,y_pred))  \n",
    "print(accuracy_score(testy, y_pred))  "
   ]
  },
  {
   "cell_type": "markdown",
   "metadata": {},
   "source": [
    "### Random Forest with 500 trees"
   ]
  },
  {
   "cell_type": "code",
   "execution_count": 15,
   "metadata": {},
   "outputs": [
    {
     "name": "stdout",
     "output_type": "stream",
     "text": [
      "[[     0      0      0      0      0     14      6]\n",
      " [     0    361    826      1      0     70    385]\n",
      " [     0    194   2666      2      1    477   4832]\n",
      " [     0     43     30      0      0     11     16]\n",
      " [     0      0      0      0      1     38      6]\n",
      " [     0     10    235      0      1 128999  10359]\n",
      " [     0     71   1553      0      0  15127  28984]]\n",
      "              precision    recall  f1-score   support\n",
      "\n",
      "           0       0.00      0.00      0.00        20\n",
      "           1       0.53      0.22      0.31      1643\n",
      "           2       0.50      0.33      0.40      8172\n",
      "           3       0.00      0.00      0.00       100\n",
      "           4       0.33      0.02      0.04        45\n",
      "           5       0.89      0.92      0.91    139604\n",
      "           6       0.65      0.63      0.64     45735\n",
      "\n",
      "   micro avg       0.82      0.82      0.82    195319\n",
      "   macro avg       0.42      0.30      0.33    195319\n",
      "weighted avg       0.81      0.82      0.82    195319\n",
      "\n",
      "0.8243488856690849\n",
      "CPU times: user 19min 7s, sys: 22.1 s, total: 19min 29s\n",
      "Wall time: 20min 6s\n"
     ]
    },
    {
     "name": "stderr",
     "output_type": "stream",
     "text": [
      "/Users/zhili/miniconda3/envs/ml/lib/python3.6/site-packages/sklearn/metrics/classification.py:1143: UndefinedMetricWarning: Precision and F-score are ill-defined and being set to 0.0 in labels with no predicted samples.\n",
      "  'precision', 'predicted', average, warn_for)\n"
     ]
    }
   ],
   "source": [
    "%%time\n",
    "from sklearn.metrics import classification_report, confusion_matrix, accuracy_score\n",
    "rf_100 = RandomForestClassifier(n_estimators=500, max_depth=20).fit(trainx, trainy)\n",
    "y_pred = rf_100.predict(testx)\n",
    "print(confusion_matrix(testy,y_pred))  \n",
    "print(classification_report(testy,y_pred))  \n",
    "print(accuracy_score(testy, y_pred)) "
   ]
  },
  {
   "cell_type": "code",
   "execution_count": null,
   "metadata": {},
   "outputs": [],
   "source": []
  }
 ],
 "metadata": {
  "kernelspec": {
   "display_name": "Python 3",
   "language": "python",
   "name": "python3"
  },
  "language_info": {
   "codemirror_mode": {
    "name": "ipython",
    "version": 3
   },
   "file_extension": ".py",
   "mimetype": "text/x-python",
   "name": "python",
   "nbconvert_exporter": "python",
   "pygments_lexer": "ipython3",
   "version": "3.6.7"
  },
  "latex_envs": {
   "LaTeX_envs_menu_present": true,
   "autoclose": false,
   "autocomplete": true,
   "bibliofile": "biblio.bib",
   "cite_by": "apalike",
   "current_citInitial": 1,
   "eqLabelWithNumbers": true,
   "eqNumInitial": 1,
   "hotkeys": {
    "equation": "Ctrl-E",
    "itemize": "Ctrl-I"
   },
   "labels_anchors": false,
   "latex_user_defs": false,
   "report_style_numbering": false,
   "user_envs_cfg": false
  },
  "toc": {
   "base_numbering": 1,
   "nav_menu": {},
   "number_sections": true,
   "sideBar": true,
   "skip_h1_title": false,
   "title_cell": "Table of Contents",
   "title_sidebar": "Contents",
   "toc_cell": false,
   "toc_position": {},
   "toc_section_display": true,
   "toc_window_display": false
  }
 },
 "nbformat": 4,
 "nbformat_minor": 2
}
